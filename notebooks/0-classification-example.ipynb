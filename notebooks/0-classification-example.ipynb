{
 "cells": [
  {
   "cell_type": "code",
   "execution_count": 1,
   "metadata": {},
   "outputs": [],
   "source": [
    "import pandas as pd\n",
    "import numpy as np\n",
    "\n",
    "import sklearn.preprocessing as preprocessing\n",
    "import warnings\n",
    "warnings.simplefilter(action='ignore', category=FutureWarning)\n",
    "\n",
    "### Warning\n",
    "# sklearn>=1.6 raises a FutureWarning for an incomming deprecation in its own cross-validation function. \n",
    "# Results are not impacted, but the deprecation-warning floods the cell outputs, so we surpress it.\n",
    "\n",
    "import matplotlib.pyplot as plt\n",
    "import seaborn as sns\n",
    "import style\n",
    "style.set_style()\n"
   ]
  },
  {
   "cell_type": "markdown",
   "metadata": {},
   "source": [
    "# Data loading"
   ]
  },
  {
   "cell_type": "markdown",
   "metadata": {},
   "source": [
    "We first define the input space for both inputs $S_1$ and $S_2$"
   ]
  },
  {
   "cell_type": "code",
   "execution_count": 2,
   "metadata": {},
   "outputs": [],
   "source": [
    "extends_s1 = (40.0, 100.0)\n",
    "extends_s2 = (15.0, 75.0)"
   ]
  },
  {
   "cell_type": "markdown",
   "metadata": {},
   "source": [
    "Then, we load in the data from a csv file with different reservoir input-output combinations on each row, corresponding to ${(u_i), (x_i)}$.\n",
    "We drop columns with irrelevant meta-data, and rename the respective input columns to `S1` and `S2` for easier referencing.\n",
    "Then, we normalize the input ranges (using the previously defined input space), and the reservoir feature outputs."
   ]
  },
  {
   "cell_type": "code",
   "execution_count": 3,
   "metadata": {},
   "outputs": [],
   "source": [
    "dropped_columns = ['author', 'exp_code', 'type', 'exp_date', 'measurement_date', 'measurement_time', 'sample', 'flowrate',\n",
    "                   'TKIFKI', 'TTMHPRL',\n",
    "                   'T', 'pH', 'SSVRWWSDDEWRW', \n",
    "                   'CCF(pS)WRCRC', 'IYPFVEPI'\n",
    "                   ]\n",
    "\n",
    "df_data_S = pd.read_csv(\"../data/RC_S1_S2.csv\", index_col=0).drop(columns=dropped_columns).rename(columns = {\n",
    "                        'AVNIPFKVHLRCKAAFC': 'S1',\n",
    "                        'CCFSWRCRC': 'S2'\n",
    "                        })\n",
    "# Seperate dataset inputs and outputs\n",
    "U_chem = df_data_S[['S1','S2']] # inputs\n",
    "X_chem = df_data_S.drop(columns=['S1', 'S2']) # outputs\n",
    "\n",
    "scaler_s1_s2 = preprocessing.MinMaxScaler().fit(pd.DataFrame({'S1': extends_s1, 'S2': extends_s2}))\n",
    "U = scaler_s1_s2.transform(U_chem)\n",
    "X = preprocessing.StandardScaler().fit_transform(X_chem)\n"
   ]
  },
  {
   "cell_type": "markdown",
   "metadata": {},
   "source": [
    "# Task definitions"
   ]
  },
  {
   "cell_type": "markdown",
   "metadata": {},
   "source": [
    "We now define the XOR classification task on the normalized input space, to obtain the true outputs $y_{xor}$ corresponding to each input $u_i$.\n",
    "\n",
    "We also define a grid-version of the XOR task for background visualization."
   ]
  },
  {
   "cell_type": "code",
   "execution_count": 6,
   "metadata": {},
   "outputs": [],
   "source": [
    "y_xor = np.logical_xor(U[:,0] < 0.5, U[:,1] < 0.5)\n",
    "\n",
    "\n",
    "N_POINTS = 1000\n",
    "EXTENDS = (-0.1, 1.1)\n",
    "xs, ys = np.meshgrid(np.linspace(*EXTENDS, N_POINTS), np.linspace(*EXTENDS, N_POINTS))\n",
    "\n",
    "z_xor = np.logical_xor(xs < 0.5, ys < 0.5)\n"
   ]
  },
  {
   "cell_type": "markdown",
   "metadata": {},
   "source": [
    "Next, we define the training algorithm for the linear readout layer.\n",
    "For this, we use Scikit-learn's Support Vector Classifier with a `linear` kernel.\n",
    "We fit this classifier to the reservoir outputs and the true XOR outputs, to obtain a set of linear weights (`reg.fit(...))\n",
    "We then apply those linear weights to obtain the predicted XOR outputs, using `reg.predict(X)`.\n",
    "Then, we visualize the predictions of the reservoir with the true values (and thus desired output) as a background using the Matplotlib library."
   ]
  },
  {
   "cell_type": "code",
   "execution_count": 7,
   "metadata": {},
   "outputs": [
    {
     "data": {
      "image/png": "[encoded data removed]",
      "text/plain": [
       "<Figure size 150x150 with 1 Axes>"
      ]
     },
     "metadata": {},
     "output_type": "display_data"
    }
   ],
   "source": [
    "from sklearn import svm\n",
    "\n",
    "reg = svm.SVC(max_iter=10_000, C=1, tol=1e-4, kernel='linear')\n",
    "\n",
    "reg.fit(X, y_xor)\n",
    "y_predict = reg.predict(X)\n",
    "\n",
    "fig, ax = plt.subplots(figsize=(1.5,1.5))\n",
    "\n",
    "cmap = sns.color_palette(\"blend:#BF616A,#EBCB8B,#8FBCBB\", as_cmap=True, n_colors=10)\n",
    "ax.scatter(\n",
    "    *U.T,\n",
    "    s=(2.5**2),\n",
    "    c=y_predict,\n",
    "    lw=0.1,\n",
    "    ec=\"black\",\n",
    "    zorder=10,\n",
    "    cmap=sns.color_palette(\"vlag\", as_cmap=True),\n",
    "    norm=plt.Normalize(0.0, 1.0),\n",
    ")\n",
    "ax.imshow(\n",
    "    z_xor,\n",
    "    origin=\"lower\",\n",
    "    aspect=\"auto\",\n",
    "    interpolation=\"none\",\n",
    "    extent=(*EXTENDS, *EXTENDS),\n",
    "    alpha=0.25,\n",
    "    cmap=sns.color_palette(\"vlag\", as_cmap=True),\n",
    ")\n",
    "plt.show()"
   ]
  },
  {
   "cell_type": "markdown",
   "metadata": {},
   "source": [
    "To verify that we are not overfitting the linear readout layer, we perform a stratified leave-N-out cross-validation, performed using another function from Scikit-learn.\n",
    "We again define our training algorithm, but now we also define the scoring metric, using the Matthew's Correlation Coefficient (also known as the $\\Phi$ coefficient), which returns values between -1 and +1.\n",
    "Finally we transform this $\\Phi$ coefficient to the $\\Phi$ accuracy with values between 0 and +1. \n",
    "We also calculate the standard-error over the accuracies obtained in the cross-validation, by normalizing the standard deviations over all cross-validation splits and repeats by the square root of the number of splits/repeats performed:\n",
    "$SE = \\sigma / \\sqrt{N_{repeats}}$"
   ]
  },
  {
   "cell_type": "code",
   "execution_count": 9,
   "metadata": {},
   "outputs": [
    {
     "name": "stdout",
     "output_type": "stream",
     "text": [
      "0.7279832207214756 0.01719458229876889\n"
     ]
    }
   ],
   "source": [
    "from sklearn import svm\n",
    "from sklearn import metrics, model_selection\n",
    "\n",
    "N_inputs = U.shape[0]\n",
    "n_repeats = 10\n",
    "\n",
    "reg = svm.SVC(max_iter=10_000, C=1, tol=1e-4, kernel='linear')\n",
    "scores = model_selection.cross_validate(\n",
    "    reg, X, y_xor,\n",
    "    scoring = metrics.make_scorer(metrics.matthews_corrcoef),\n",
    "    cv = model_selection.RepeatedStratifiedKFold(\n",
    "        n_splits=N_inputs//5, n_repeats=n_repeats,\n",
    "    )\n",
    ")\n",
    "\n",
    "test_score = (scores['test_score'].mean() + 1)/2\n",
    "test_score_std = ((scores['test_score']+1)/2).std()/np.sqrt(len(scores['test_score']))\n",
    "\n",
    "print(test_score, test_score_std)"
   ]
  }
 ],
 "metadata": {
  "kernelspec": {
   "display_name": "thesis",
   "language": "python",
   "name": "python3"
  },
  "language_info": {
   "codemirror_mode": {
    "name": "ipython",
    "version": 3
   },
   "file_extension": ".py",
   "mimetype": "text/x-python",
   "name": "python",
   "nbconvert_exporter": "python",
   "pygments_lexer": "ipython3",
   "version": "3.13.1"
  }
 },
 "nbformat": 4,
 "nbformat_minor": 2
}
